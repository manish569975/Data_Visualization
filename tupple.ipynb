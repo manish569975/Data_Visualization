{
 "cells": [
  {
   "cell_type": "code",
   "execution_count": 1,
   "metadata": {},
   "outputs": [
    {
     "name": "stdout",
     "output_type": "stream",
     "text": [
      "(45, 58, 223, 48, 59, 89, 59, 49, 95, 55, 37, 47)\n"
     ]
    }
   ],
   "source": [
    "number=(45,58,223,48,59,89,59,49,95,55,37,47,)\n",
    "print(number)"
   ]
  },
  {
   "cell_type": "code",
   "execution_count": 6,
   "id": "726ac8e5",
   "metadata": {},
   "outputs": [
    {
     "name": "stdout",
     "output_type": "stream",
     "text": [
      "(45, 58, 223, 48, 59, 89, 59, 49, 95, 55, 37, 47)\n"
     ]
    }
   ],
   "source": [
    "number=(45,58,223,48,59,89,59,49,95,55,37,47,)\n",
    "print(number)"
   ]
  },
  {
   "cell_type": "code",
   "execution_count": 8,
   "id": "53785c32",
   "metadata": {},
   "outputs": [
    {
     "name": "stdout",
     "output_type": "stream",
     "text": [
      "45 58 223 48 59 89 59 49 95 55 37 47\n"
     ]
    }
   ],
   "source": [
    "print(*number)"
   ]
  },
  {
   "cell_type": "code",
   "execution_count": 7,
   "id": "6f7539eb",
   "metadata": {},
   "outputs": [
    {
     "name": "stdout",
     "output_type": "stream",
     "text": [
      "45\n",
      "58\n",
      "223\n",
      "48\n",
      "59\n",
      "89\n",
      "59\n",
      "49\n",
      "95\n",
      "55\n",
      "37\n",
      "47\n"
     ]
    }
   ],
   "source": [
    "for element in number:\n",
    "    print(element)"
   ]
  },
  {
   "cell_type": "code",
   "execution_count": 9,
   "id": "7833da8f",
   "metadata": {},
   "outputs": [
    {
     "name": "stdout",
     "output_type": "stream",
     "text": [
      "4558223485989594995553747"
     ]
    }
   ],
   "source": [
    "for element in number:\n",
    "    print(element,end=\"\")"
   ]
  },
  {
   "cell_type": "code",
   "execution_count": null,
   "id": "64fbead7",
   "metadata": {},
   "outputs": [],
   "source": [
    "print(\"the tuple  is ;/n\",number)\n",
    "print(\"fourth element :\",number[4])"
   ]
  },
  {
   "cell_type": "code",
   "execution_count": null,
   "id": "8335563c",
   "metadata": {},
   "outputs": [],
   "source": [
    "print(\"the tuple  is ;/n\",number)\n",
    "print(\"fourth element from last :\",number[-4])"
   ]
  },
  {
   "cell_type": "code",
   "execution_count": 10,
   "id": "ae32a025",
   "metadata": {},
   "outputs": [
    {
     "name": "stdout",
     "output_type": "stream",
     "text": [
      "the tuple is : (45, 58, 223, 48, 59, 89, 59, 49, 95, 55, 37, 47)\n",
      "45 58 223 48 59 89 59 49 95 55 37 47 "
     ]
    }
   ],
   "source": [
    "print(\"the tuple is :\",number)\n",
    "for x in range(-len(number),0,+1):\n",
    "    print(number[x],end=\" \")"
   ]
  },
  {
   "cell_type": "code",
   "execution_count": null,
   "id": "bd1d5a46",
   "metadata": {},
   "outputs": [],
   "source": [
    "print(\"the tupple is :\",number)\n",
    "print(\"sum of the tuple:\",sum(number))"
   ]
  },
  {
   "cell_type": "code",
   "execution_count": 11,
   "id": "7ec00cc9",
   "metadata": {},
   "outputs": [
    {
     "name": "stdout",
     "output_type": "stream",
     "text": [
      "the tupple is : (45, 58, 223, 48, 59, 89, 59, 49, 95, 55, 37, 47)\n",
      "sum: 45\n",
      "sum: 103\n",
      "sum: 326\n",
      "sum: 374\n",
      "sum: 433\n",
      "sum: 522\n",
      "sum: 581\n",
      "sum: 630\n",
      "sum: 725\n",
      "sum: 780\n",
      "sum: 817\n",
      "sum: 864\n"
     ]
    }
   ],
   "source": [
    "print(\"the tupple is :\",number)\n",
    "sum=0\n",
    "for idx in range(0,len(number)):\n",
    "    sum += number[idx]\n",
    "    print(\"sum:\",sum)"
   ]
  },
  {
   "cell_type": "code",
   "execution_count": 12,
   "id": "d854fae1",
   "metadata": {},
   "outputs": [
    {
     "name": "stdout",
     "output_type": "stream",
     "text": [
      "[67]\n"
     ]
    }
   ],
   "source": [
    "first=([2])\n",
    "first[0]=67\n",
    "print(first)"
   ]
  },
  {
   "cell_type": "code",
   "execution_count": null,
   "id": "c24f4625",
   "metadata": {},
   "outputs": [],
   "source": []
  },
  {
   "cell_type": "code",
   "execution_count": null,
   "id": "ca49b728",
   "metadata": {},
   "outputs": [],
   "source": []
  },
  {
   "cell_type": "code",
   "execution_count": null,
   "id": "6b4e69d1",
   "metadata": {},
   "outputs": [],
   "source": []
  },
  {
   "cell_type": "code",
   "execution_count": null,
   "id": "a8dce763",
   "metadata": {},
   "outputs": [],
   "source": []
  }
 ],
 "metadata": {
  "kernelspec": {
   "display_name": "Python 3",
   "language": "python",
   "name": "python3"
  },
  "language_info": {
   "codemirror_mode": {
    "name": "ipython",
    "version": 3
   },
   "file_extension": ".py",
   "mimetype": "text/x-python",
   "name": "python",
   "nbconvert_exporter": "python",
   "pygments_lexer": "ipython3",
   "version": "3.10.7"
  }
 },
 "nbformat": 4,
 "nbformat_minor": 5
}
