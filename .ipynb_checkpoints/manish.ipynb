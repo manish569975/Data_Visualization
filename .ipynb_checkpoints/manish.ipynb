{
 "cells": [
  {
   "cell_type": "code",
   "execution_count": 6,
   "metadata": {},
   "outputs": [
    {
     "name": "stdout",
     "output_type": "stream",
     "text": [
      "student data\n",
      "{'stdid': 'std101', 'math': '70', 'stdnaame': 'ashish kumar', 'age': 12}\n"
     ]
    }
   ],
   "source": [
    "student = {'stdid': 'std101', 'math': '70',\n",
    "           'stdnaame': 'ashish kumar', 'age': 12}\n",
    "print(\"student data\")\n",
    "print(student)"
   ]
  },
  {
   "cell_type": "code",
   "execution_count": 7,
   "metadata": {},
   "outputs": [
    {
     "name": "stdout",
     "output_type": "stream",
     "text": [
      "stdid math stdnaame age\n"
     ]
    }
   ],
   "source": [
    "print(*student)"
   ]
  },
  {
   "cell_type": "code",
   "execution_count": 8,
   "metadata": {},
   "outputs": [
    {
     "name": "stdout",
     "output_type": "stream",
     "text": [
      "stdid\n",
      "math\n",
      "stdnaame\n",
      "age\n"
     ]
    }
   ],
   "source": [
    "for key in student:\n",
    "    print(key)"
   ]
  },
  {
   "cell_type": "code",
   "execution_count": 9,
   "metadata": {},
   "outputs": [
    {
     "name": "stdout",
     "output_type": "stream",
     "text": [
      "stdid\n",
      "math\n",
      "stdnaame\n",
      "age\n"
     ]
    }
   ],
   "source": [
    "for key in student:\n",
    "    print(key)"
   ]
  },
  {
   "cell_type": "code",
   "execution_count": 10,
   "metadata": {},
   "outputs": [
    {
     "name": "stdout",
     "output_type": "stream",
     "text": [
      "std101 70 ashish kumar 12 "
     ]
    }
   ],
   "source": [
    "for key in student:\n",
    "    print(student[key], end=\" \")"
   ]
  },
  {
   "cell_type": "code",
   "execution_count": 11,
   "metadata": {},
   "outputs": [
    {
     "name": "stdout",
     "output_type": "stream",
     "text": [
      "dictionary:\n",
      " {'stdid': 'std101', 'math': '70', 'stdnaame': 'ashish kumar', 'age': 12}\n"
     ]
    }
   ],
   "source": [
    "print(\"dictionary:\\n\", student)"
   ]
  },
  {
   "cell_type": "code",
   "execution_count": 12,
   "metadata": {},
   "outputs": [
    {
     "name": "stdout",
     "output_type": "stream",
     "text": [
      "{'stdid': 'std101', 'math': '70', 'stdnaame': 'ashish kumar'}\n"
     ]
    }
   ],
   "source": [
    "# delet the element\n",
    "del student['age']\n",
    "print(student)"
   ]
  },
  {
   "cell_type": "code",
   "execution_count": 13,
   "metadata": {},
   "outputs": [
    {
     "name": "stdout",
     "output_type": "stream",
     "text": [
      "{'hindi': 78, 'english': 59, 'standerd': '10th', 'name': 'ashish'}\n"
     ]
    }
   ],
   "source": [
    "# dictionary\n",
    "student_dict = {\"hindi\": 78, \"english\": 59,\n",
    "                \"standerd\": \"10th\", \"name\": 'ashish'}\n",
    "print(student_dict)"
   ]
  },
  {
   "cell_type": "code",
   "execution_count": 14,
   "metadata": {},
   "outputs": [
    {
     "name": "stdout",
     "output_type": "stream",
     "text": [
      "dictionary : {'hindi': 78, 'english': 59, 'standerd': '10th', 'name': 'ashish'}\n",
      "{'hindi': 78, 'english': 59, 'standerd': '10th'}\n"
     ]
    }
   ],
   "source": [
    "print(\"dictionary :\", student_dict)\n",
    "student_dict.popitem()\n",
    "print(student_dict)"
   ]
  },
  {
   "cell_type": "code",
   "execution_count": 15,
   "metadata": {},
   "outputs": [
    {
     "name": "stdout",
     "output_type": "stream",
     "text": [
      "the dictionary is : {'hindi': 49, 'english': 58, 'standerd': '10th', 'name': 'ashish'}\n"
     ]
    }
   ],
   "source": [
    "studentrecord = {\"hindi\": 49, \"english\": 58,\n",
    "                 \"standerd\": \"10th\", \"name\": 'ashish'}\n",
    "print(\"the dictionary is :\", studentrecord)"
   ]
  },
  {
   "cell_type": "code",
   "execution_count": 20,
   "metadata": {},
   "outputs": [
    {
     "name": "stdout",
     "output_type": "stream",
     "text": [
      "dict_keys(['hindi', 'english', 'standerd', 'name'])\n"
     ]
    }
   ],
   "source": [
    "# to fetch the key to all element\n",
    "elementIndex = studentrecord.keys()\n",
    "print(elementIndex)"
   ]
  },
  {
   "cell_type": "code",
   "execution_count": 21,
   "metadata": {},
   "outputs": [
    {
     "name": "stdout",
     "output_type": "stream",
     "text": [
      "dict_values([49, 58, '10th', 'ashish'])\n"
     ]
    }
   ],
   "source": [
    "\n",
    "# to fatch value of element oof dict\n",
    "elementvalue = studentrecord.values()\n",
    "print(elementvalue)"
   ]
  },
  {
   "cell_type": "code",
   "execution_count": 22,
   "metadata": {},
   "outputs": [
    {
     "name": "stdout",
     "output_type": "stream",
     "text": [
      "49\n",
      "58\n",
      "10th\n",
      "ashish\n"
     ]
    }
   ],
   "source": [
    "# to fatch only  value of element of dict\n",
    "\n",
    "for x in studentrecord.values():\n",
    "    print(x)"
   ]
  },
  {
   "cell_type": "code",
   "execution_count": 24,
   "metadata": {},
   "outputs": [
    {
     "name": "stdout",
     "output_type": "stream",
     "text": [
      "dict_items([('hindi', 59), ('english', 59), ('standerd', '10th'), ('name', 'ashish')])\n"
     ]
    }
   ],
   "source": [
    "# to return a list of item from dict [each item is a tupple which contain key ,value of each element ]\n",
    "elements = studentrecord.items()\n",
    "print(elements)"
   ]
  },
  {
   "cell_type": "code",
   "execution_count": 23,
   "metadata": {},
   "outputs": [
    {
     "name": "stdout",
     "output_type": "stream",
     "text": [
      "the \\dict is : {'hindi': 59, 'english': 59, 'standerd': '10th', 'name': 'ashish'}\n",
      "59\n"
     ]
    }
   ],
   "source": [
    "studentrecord = {\"hindi\": 59, \"english\": 59,\n",
    "                 \"standerd\": \"10th\", \"name\": \"ashish\"}\n",
    "print(\"the \\dict is :\", studentrecord)\n",
    "\n",
    "# to retrive value of element with key in hindi\n",
    "x = studentrecord.get(\"hindi\")\n",
    "print(x)"
   ]
  },
  {
   "cell_type": "code",
   "execution_count": 26,
   "metadata": {},
   "outputs": [
    {
     "name": "stdout",
     "output_type": "stream",
     "text": [
      "element does not exist \n"
     ]
    }
   ],
   "source": [
    "# ifn  element is not present in dict\n",
    "\n",
    "x = studentrecord.get(\"computer \", \"element does not exist \")\n",
    "print(x)"
   ]
  },
  {
   "cell_type": "code",
   "execution_count": 28,
   "metadata": {},
   "outputs": [
    {
     "name": "stdout",
     "output_type": "stream",
     "text": [
      "{}\n"
     ]
    }
   ],
   "source": [
    "# delet every element o f dict\n",
    "\n",
    "studentrecord.clear()\n",
    "print(studentrecord)"
   ]
  },
  {
   "cell_type": "code",
   "execution_count": 30,
   "metadata": {},
   "outputs": [
    {
     "name": "stdout",
     "output_type": "stream",
     "text": [
      "te dict is:  {'hindi': 48, 'english': 50, 'staanderd': '10th', 'name': 'ashish'}\n",
      "4\n"
     ]
    }
   ],
   "source": [
    "studentrecord = {\"hindi\": 48, \"english\": 50,\n",
    "                 \"staanderd\": \"10th\", \"name\": 'ashish'}\n",
    "print(\"te dict is: \", studentrecord)\n",
    "# find total length\n",
    "x = len(studentrecord)\n",
    "print(x)"
   ]
  },
  {
   "cell_type": "code",
   "execution_count": 31,
   "metadata": {},
   "outputs": [
    {
     "name": "stdout",
     "output_type": "stream",
     "text": [
      "first dict is : {'hindi': 48, 'english': 50, 'staanderd': '10th', 'name': 'ashish'}\n",
      "----------------------------------------------------\n",
      "second dict is : {'math': 59, 'hindi': 69, 'roll no': 1033, 'english': 68, 'science': 70}\n",
      "----------------------------------------------------\n",
      "after inserting element of second dict into first :/n\n",
      "{'hindi': 69, 'english': 68, 'staanderd': '10th', 'name': 'ashish', 'math': 59, 'roll no': 1033, 'science': 70}\n"
     ]
    }
   ],
   "source": [
    "dictobj1 = {\"hindi\": 48, \"english\": 50, \"staanderd\": \"10th\", \"name\": 'ashish'}\n",
    "print(\"first dict is :\", dictobj1)\n",
    "print(\"----------------------------------------------------\")\n",
    "dictobj2 = {'math': 59, 'hindi': 69,\n",
    "            'roll no': 1033, 'english': 68, 'science': 70}\n",
    "print(\"second dict is :\", dictobj2)\n",
    "print(\"----------------------------------------------------\")\n",
    "print(\"after inserting element of second dict into first :/n\")\n",
    "dictobj1.update(dictobj2)\n",
    "print(dictobj1)"
   ]
  },
  {
   "cell_type": "code",
   "execution_count": null,
   "metadata": {},
   "outputs": [],
   "source": []
  },
  {
   "cell_type": "code",
   "execution_count": null,
   "metadata": {},
   "outputs": [],
   "source": []
  }
 ],
 "metadata": {
  "kernelspec": {
   "display_name": "Python 3",
   "language": "python",
   "name": "python3"
  },
  "language_info": {
   "codemirror_mode": {
    "name": "ipython",
    "version": 3
   },
   "file_extension": ".py",
   "mimetype": "text/x-python",
   "name": "python",
   "nbconvert_exporter": "python",
   "pygments_lexer": "ipython3",
   "version": "3.10.7"
  }
 },
 "nbformat": 4,
 "nbformat_minor": 2
}
